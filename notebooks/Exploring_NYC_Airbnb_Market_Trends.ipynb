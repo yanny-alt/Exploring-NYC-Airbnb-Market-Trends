{
  "nbformat": 4,
  "nbformat_minor": 0,
  "metadata": {
    "colab": {
      "provenance": []
    },
    "kernelspec": {
      "name": "python3",
      "display_name": "Python 3"
    },
    "language_info": {
      "name": "python"
    }
  },
  "cells": [
    {
      "cell_type": "markdown",
      "source": [
        "## Introduction\n",
        "Welcome to New York City, one of the most visited cities in the world. With its high demand for temporary lodging, the NYC Airbnb market offers a rich dataset for exploration. In this project, we aim to analyze various aspects of Airbnb listings to provide insights into the short-term rental market.\n"
      ],
      "metadata": {
        "id": "uWCkrNyMTSK_"
      }
    },
    {
      "cell_type": "markdown",
      "source": [
        "## Problem Statement\n",
        "As a consultant for a real estate start-up, we are tasked with analyzing Airbnb data in New York City to provide insights on private rooms and overall market trends. This analysis will help the company make informed decisions about the short-term rental market.\n"
      ],
      "metadata": {
        "id": "9ie6Kj6jT5vg"
      }
    },
    {
      "cell_type": "markdown",
      "source": [
        "## Objectives\n",
        "- Determine the earliest and most recent review dates for Airbnb listings.\n",
        "- Identify the number of private rooms available.\n",
        "- Calculate the average listing price.\n",
        "- Combine the results into a summarized DataFrame.\n"
      ],
      "metadata": {
        "id": "4Iwb4Ii0UNez"
      }
    },
    {
      "cell_type": "markdown",
      "source": [
        "## Data Overview\n",
        "The data consists of three files in different formats:\n",
        "- **airbnb_price.csv**: Contains listing prices and locations.\n",
        "- **airbnb_room_type.xlsx**: Contains descriptions and room types.\n",
        "- **airbnb_last_review.tsv**: Contains host names and review dates.\n"
      ],
      "metadata": {
        "id": "jkbTT8AMUic1"
      }
    },
    {
      "cell_type": "markdown",
      "source": [
        "## Data Importing and Cleaning\n",
        "In this section, we will import the data from various file formats and perform necessary cleaning operations to prepare the data for analysis.\n"
      ],
      "metadata": {
        "id": "REKOgxT8Uv82"
      }
    },
    {
      "cell_type": "code",
      "source": [
        "# Importing necessary libraries\n",
        "import pandas as pd\n",
        "\n",
        "# Importing CSV file\n",
        "price_data = pd.read_csv('/content/airbnb_price.csv')\n",
        "\n",
        "# Importing Excel file\n",
        "room_type_data = pd.read_excel('/content/airbnb_room_type.xlsx')\n",
        "\n",
        "# Importing TSV file\n",
        "review_data = pd.read_csv('/content/airbnb_last_review.tsv', sep='\\t')\n",
        "\n",
        "# Display the first few rows of each dataset\n",
        "price_data.head()\n",
        "room_type_data.head()\n",
        "review_data.head()\n"
      ],
      "metadata": {
        "id": "Cj1ygUUKV39e",
        "colab": {
          "base_uri": "https://localhost:8080/",
          "height": 206
        },
        "outputId": "f66c4e2f-af3f-47de-8b21-66ed27093fe2"
      },
      "execution_count": 31,
      "outputs": [
        {
          "output_type": "execute_result",
          "data": {
            "text/plain": [
              "   listing_id    host_name   last_review\n",
              "0        2595     Jennifer   May 21 2019\n",
              "1        3831  LisaRoxanne  July 05 2019\n",
              "2        5099        Chris  June 22 2019\n",
              "3        5178     Shunichi  June 24 2019\n",
              "4        5238          Ben  June 09 2019"
            ],
            "text/html": [
              "\n",
              "  <div id=\"df-31dfb2ad-5ca4-43ca-a0a1-7473cebde153\" class=\"colab-df-container\">\n",
              "    <div>\n",
              "<style scoped>\n",
              "    .dataframe tbody tr th:only-of-type {\n",
              "        vertical-align: middle;\n",
              "    }\n",
              "\n",
              "    .dataframe tbody tr th {\n",
              "        vertical-align: top;\n",
              "    }\n",
              "\n",
              "    .dataframe thead th {\n",
              "        text-align: right;\n",
              "    }\n",
              "</style>\n",
              "<table border=\"1\" class=\"dataframe\">\n",
              "  <thead>\n",
              "    <tr style=\"text-align: right;\">\n",
              "      <th></th>\n",
              "      <th>listing_id</th>\n",
              "      <th>host_name</th>\n",
              "      <th>last_review</th>\n",
              "    </tr>\n",
              "  </thead>\n",
              "  <tbody>\n",
              "    <tr>\n",
              "      <th>0</th>\n",
              "      <td>2595</td>\n",
              "      <td>Jennifer</td>\n",
              "      <td>May 21 2019</td>\n",
              "    </tr>\n",
              "    <tr>\n",
              "      <th>1</th>\n",
              "      <td>3831</td>\n",
              "      <td>LisaRoxanne</td>\n",
              "      <td>July 05 2019</td>\n",
              "    </tr>\n",
              "    <tr>\n",
              "      <th>2</th>\n",
              "      <td>5099</td>\n",
              "      <td>Chris</td>\n",
              "      <td>June 22 2019</td>\n",
              "    </tr>\n",
              "    <tr>\n",
              "      <th>3</th>\n",
              "      <td>5178</td>\n",
              "      <td>Shunichi</td>\n",
              "      <td>June 24 2019</td>\n",
              "    </tr>\n",
              "    <tr>\n",
              "      <th>4</th>\n",
              "      <td>5238</td>\n",
              "      <td>Ben</td>\n",
              "      <td>June 09 2019</td>\n",
              "    </tr>\n",
              "  </tbody>\n",
              "</table>\n",
              "</div>\n",
              "    <div class=\"colab-df-buttons\">\n",
              "\n",
              "  <div class=\"colab-df-container\">\n",
              "    <button class=\"colab-df-convert\" onclick=\"convertToInteractive('df-31dfb2ad-5ca4-43ca-a0a1-7473cebde153')\"\n",
              "            title=\"Convert this dataframe to an interactive table.\"\n",
              "            style=\"display:none;\">\n",
              "\n",
              "  <svg xmlns=\"http://www.w3.org/2000/svg\" height=\"24px\" viewBox=\"0 -960 960 960\">\n",
              "    <path d=\"M120-120v-720h720v720H120Zm60-500h600v-160H180v160Zm220 220h160v-160H400v160Zm0 220h160v-160H400v160ZM180-400h160v-160H180v160Zm440 0h160v-160H620v160ZM180-180h160v-160H180v160Zm440 0h160v-160H620v160Z\"/>\n",
              "  </svg>\n",
              "    </button>\n",
              "\n",
              "  <style>\n",
              "    .colab-df-container {\n",
              "      display:flex;\n",
              "      gap: 12px;\n",
              "    }\n",
              "\n",
              "    .colab-df-convert {\n",
              "      background-color: #E8F0FE;\n",
              "      border: none;\n",
              "      border-radius: 50%;\n",
              "      cursor: pointer;\n",
              "      display: none;\n",
              "      fill: #1967D2;\n",
              "      height: 32px;\n",
              "      padding: 0 0 0 0;\n",
              "      width: 32px;\n",
              "    }\n",
              "\n",
              "    .colab-df-convert:hover {\n",
              "      background-color: #E2EBFA;\n",
              "      box-shadow: 0px 1px 2px rgba(60, 64, 67, 0.3), 0px 1px 3px 1px rgba(60, 64, 67, 0.15);\n",
              "      fill: #174EA6;\n",
              "    }\n",
              "\n",
              "    .colab-df-buttons div {\n",
              "      margin-bottom: 4px;\n",
              "    }\n",
              "\n",
              "    [theme=dark] .colab-df-convert {\n",
              "      background-color: #3B4455;\n",
              "      fill: #D2E3FC;\n",
              "    }\n",
              "\n",
              "    [theme=dark] .colab-df-convert:hover {\n",
              "      background-color: #434B5C;\n",
              "      box-shadow: 0px 1px 3px 1px rgba(0, 0, 0, 0.15);\n",
              "      filter: drop-shadow(0px 1px 2px rgba(0, 0, 0, 0.3));\n",
              "      fill: #FFFFFF;\n",
              "    }\n",
              "  </style>\n",
              "\n",
              "    <script>\n",
              "      const buttonEl =\n",
              "        document.querySelector('#df-31dfb2ad-5ca4-43ca-a0a1-7473cebde153 button.colab-df-convert');\n",
              "      buttonEl.style.display =\n",
              "        google.colab.kernel.accessAllowed ? 'block' : 'none';\n",
              "\n",
              "      async function convertToInteractive(key) {\n",
              "        const element = document.querySelector('#df-31dfb2ad-5ca4-43ca-a0a1-7473cebde153');\n",
              "        const dataTable =\n",
              "          await google.colab.kernel.invokeFunction('convertToInteractive',\n",
              "                                                    [key], {});\n",
              "        if (!dataTable) return;\n",
              "\n",
              "        const docLinkHtml = 'Like what you see? Visit the ' +\n",
              "          '<a target=\"_blank\" href=https://colab.research.google.com/notebooks/data_table.ipynb>data table notebook</a>'\n",
              "          + ' to learn more about interactive tables.';\n",
              "        element.innerHTML = '';\n",
              "        dataTable['output_type'] = 'display_data';\n",
              "        await google.colab.output.renderOutput(dataTable, element);\n",
              "        const docLink = document.createElement('div');\n",
              "        docLink.innerHTML = docLinkHtml;\n",
              "        element.appendChild(docLink);\n",
              "      }\n",
              "    </script>\n",
              "  </div>\n",
              "\n",
              "\n",
              "<div id=\"df-382476b3-04db-4a0c-8840-54995340b671\">\n",
              "  <button class=\"colab-df-quickchart\" onclick=\"quickchart('df-382476b3-04db-4a0c-8840-54995340b671')\"\n",
              "            title=\"Suggest charts\"\n",
              "            style=\"display:none;\">\n",
              "\n",
              "<svg xmlns=\"http://www.w3.org/2000/svg\" height=\"24px\"viewBox=\"0 0 24 24\"\n",
              "     width=\"24px\">\n",
              "    <g>\n",
              "        <path d=\"M19 3H5c-1.1 0-2 .9-2 2v14c0 1.1.9 2 2 2h14c1.1 0 2-.9 2-2V5c0-1.1-.9-2-2-2zM9 17H7v-7h2v7zm4 0h-2V7h2v10zm4 0h-2v-4h2v4z\"/>\n",
              "    </g>\n",
              "</svg>\n",
              "  </button>\n",
              "\n",
              "<style>\n",
              "  .colab-df-quickchart {\n",
              "      --bg-color: #E8F0FE;\n",
              "      --fill-color: #1967D2;\n",
              "      --hover-bg-color: #E2EBFA;\n",
              "      --hover-fill-color: #174EA6;\n",
              "      --disabled-fill-color: #AAA;\n",
              "      --disabled-bg-color: #DDD;\n",
              "  }\n",
              "\n",
              "  [theme=dark] .colab-df-quickchart {\n",
              "      --bg-color: #3B4455;\n",
              "      --fill-color: #D2E3FC;\n",
              "      --hover-bg-color: #434B5C;\n",
              "      --hover-fill-color: #FFFFFF;\n",
              "      --disabled-bg-color: #3B4455;\n",
              "      --disabled-fill-color: #666;\n",
              "  }\n",
              "\n",
              "  .colab-df-quickchart {\n",
              "    background-color: var(--bg-color);\n",
              "    border: none;\n",
              "    border-radius: 50%;\n",
              "    cursor: pointer;\n",
              "    display: none;\n",
              "    fill: var(--fill-color);\n",
              "    height: 32px;\n",
              "    padding: 0;\n",
              "    width: 32px;\n",
              "  }\n",
              "\n",
              "  .colab-df-quickchart:hover {\n",
              "    background-color: var(--hover-bg-color);\n",
              "    box-shadow: 0 1px 2px rgba(60, 64, 67, 0.3), 0 1px 3px 1px rgba(60, 64, 67, 0.15);\n",
              "    fill: var(--button-hover-fill-color);\n",
              "  }\n",
              "\n",
              "  .colab-df-quickchart-complete:disabled,\n",
              "  .colab-df-quickchart-complete:disabled:hover {\n",
              "    background-color: var(--disabled-bg-color);\n",
              "    fill: var(--disabled-fill-color);\n",
              "    box-shadow: none;\n",
              "  }\n",
              "\n",
              "  .colab-df-spinner {\n",
              "    border: 2px solid var(--fill-color);\n",
              "    border-color: transparent;\n",
              "    border-bottom-color: var(--fill-color);\n",
              "    animation:\n",
              "      spin 1s steps(1) infinite;\n",
              "  }\n",
              "\n",
              "  @keyframes spin {\n",
              "    0% {\n",
              "      border-color: transparent;\n",
              "      border-bottom-color: var(--fill-color);\n",
              "      border-left-color: var(--fill-color);\n",
              "    }\n",
              "    20% {\n",
              "      border-color: transparent;\n",
              "      border-left-color: var(--fill-color);\n",
              "      border-top-color: var(--fill-color);\n",
              "    }\n",
              "    30% {\n",
              "      border-color: transparent;\n",
              "      border-left-color: var(--fill-color);\n",
              "      border-top-color: var(--fill-color);\n",
              "      border-right-color: var(--fill-color);\n",
              "    }\n",
              "    40% {\n",
              "      border-color: transparent;\n",
              "      border-right-color: var(--fill-color);\n",
              "      border-top-color: var(--fill-color);\n",
              "    }\n",
              "    60% {\n",
              "      border-color: transparent;\n",
              "      border-right-color: var(--fill-color);\n",
              "    }\n",
              "    80% {\n",
              "      border-color: transparent;\n",
              "      border-right-color: var(--fill-color);\n",
              "      border-bottom-color: var(--fill-color);\n",
              "    }\n",
              "    90% {\n",
              "      border-color: transparent;\n",
              "      border-bottom-color: var(--fill-color);\n",
              "    }\n",
              "  }\n",
              "</style>\n",
              "\n",
              "  <script>\n",
              "    async function quickchart(key) {\n",
              "      const quickchartButtonEl =\n",
              "        document.querySelector('#' + key + ' button');\n",
              "      quickchartButtonEl.disabled = true;  // To prevent multiple clicks.\n",
              "      quickchartButtonEl.classList.add('colab-df-spinner');\n",
              "      try {\n",
              "        const charts = await google.colab.kernel.invokeFunction(\n",
              "            'suggestCharts', [key], {});\n",
              "      } catch (error) {\n",
              "        console.error('Error during call to suggestCharts:', error);\n",
              "      }\n",
              "      quickchartButtonEl.classList.remove('colab-df-spinner');\n",
              "      quickchartButtonEl.classList.add('colab-df-quickchart-complete');\n",
              "    }\n",
              "    (() => {\n",
              "      let quickchartButtonEl =\n",
              "        document.querySelector('#df-382476b3-04db-4a0c-8840-54995340b671 button');\n",
              "      quickchartButtonEl.style.display =\n",
              "        google.colab.kernel.accessAllowed ? 'block' : 'none';\n",
              "    })();\n",
              "  </script>\n",
              "</div>\n",
              "\n",
              "    </div>\n",
              "  </div>\n"
            ],
            "application/vnd.google.colaboratory.intrinsic+json": {
              "type": "dataframe",
              "variable_name": "review_data",
              "summary": "{\n  \"name\": \"review_data\",\n  \"rows\": 25209,\n  \"fields\": [\n    {\n      \"column\": \"listing_id\",\n      \"properties\": {\n        \"dtype\": \"number\",\n        \"std\": 11029278,\n        \"min\": 2595,\n        \"max\": 36455809,\n        \"num_unique_values\": 25209,\n        \"samples\": [\n          6326410,\n          35611781,\n          29869390\n        ],\n        \"semantic_type\": \"\",\n        \"description\": \"\"\n      }\n    },\n    {\n      \"column\": \"host_name\",\n      \"properties\": {\n        \"dtype\": \"category\",\n        \"num_unique_values\": 7363,\n        \"samples\": [\n          \"Tiarnan\",\n          \"LisaMarie\",\n          \"Maurine\"\n        ],\n        \"semantic_type\": \"\",\n        \"description\": \"\"\n      }\n    },\n    {\n      \"column\": \"last_review\",\n      \"properties\": {\n        \"dtype\": \"object\",\n        \"num_unique_values\": 190,\n        \"samples\": [\n          \"March 03 2019\",\n          \"January 16 2019\",\n          \"May 03 2019\"\n        ],\n        \"semantic_type\": \"\",\n        \"description\": \"\"\n      }\n    }\n  ]\n}"
            }
          },
          "metadata": {},
          "execution_count": 31
        }
      ]
    },
    {
      "cell_type": "markdown",
      "source": [
        "## Analysis\n",
        "\n",
        "### Review Dates Analysis\n",
        "Here, we identify the earliest and most recent review dates in the dataset.\n"
      ],
      "metadata": {
        "id": "OjDoF3pMZyjG"
      }
    },
    {
      "cell_type": "code",
      "source": [
        "# Convert 'last_review' to datetime format\n",
        "review_data['last_review'] = pd.to_datetime(review_data['last_review'])\n",
        "\n",
        "# Count of reviews per month\n",
        "reviews_by_month = review_data['last_review'].dt.to_period('M').value_counts().sort_index()\n",
        "\n",
        "# Plotting the trend of reviews over time\n",
        "reviews_by_month.plot(kind='line', title='Number of Reviews Over Time')\n"
      ],
      "metadata": {
        "colab": {
          "base_uri": "https://localhost:8080/",
          "height": 505
        },
        "id": "BLZKAGdJaLgn",
        "outputId": "8a158659-7b58-47ce-a2b6-c4650caee5dc"
      },
      "execution_count": 4,
      "outputs": [
        {
          "output_type": "execute_result",
          "data": {
            "text/plain": [
              "<Axes: title={'center': 'Number of Reviews Over Time'}, xlabel='last_review'>"
            ]
          },
          "metadata": {},
          "execution_count": 4
        },
        {
          "output_type": "display_data",
          "data": {
            "text/plain": [
              "<Figure size 640x480 with 1 Axes>"
            ],
            "image/png": "[encoded data removed]"
          },
          "metadata": {}
        }
      ]
    },
    {
      "cell_type": "markdown",
      "source": [
        "The plot revealed that the reviews reached their peak at 12,000 in June 2019, indicating a high level of activity on Airbnb during that period"
      ],
      "metadata": {
        "id": "WhWoAcWPba3J"
      }
    },
    {
      "cell_type": "code",
      "source": [
        "# Task 2: Average Time Between Reviews\n",
        "\n",
        "# Objective: Calculate the average time between reviews for listings, which can provide insight into how frequently properties are reviewed.\n",
        "\n",
        "# Calculate the difference between each review date and the previous one\n",
        "review_data = review_data.sort_values('last_review')\n",
        "review_data['review_diff'] = review_data.groupby('listing_id')['last_review'].diff().dt.days\n",
        "\n",
        "# Calculate the average time between reviews\n",
        "avg_review_diff = review_data['review_diff'].mean()\n",
        "print(f\"Average time between reviews: {avg_review_diff} days\")"
      ],
      "metadata": {
        "colab": {
          "base_uri": "https://localhost:8080/"
        },
        "id": "t73Zxn5tbrW-",
        "outputId": "cff37d93-df7f-401e-863e-3ba081b917b5"
      },
      "execution_count": 6,
      "outputs": [
        {
          "output_type": "stream",
          "name": "stdout",
          "text": [
            "Average time between reviews: nan days\n"
          ]
        }
      ]
    },
    {
      "cell_type": "code",
      "source": [
        "# Drop any rows where 'last_review' is NaT (Not a Time) to avoid errors\n",
        "review_data = review_data.dropna(subset=['last_review'])\n",
        "\n",
        "# Sort by 'last_review'\n",
        "review_data = review_data.sort_values(by='last_review')\n",
        "\n",
        "# Calculate time differences between consecutive reviews\n",
        "review_data['time_diff'] = review_data['last_review'].diff()\n",
        "\n",
        "# Calculate the average time between reviews\n",
        "average_time_between_reviews = review_data['time_diff'].mean()\n",
        "\n",
        "# Convert the result to days\n",
        "average_time_between_reviews_days = average_time_between_reviews / pd.Timedelta(days=1)\n",
        "\n",
        "# Print the result\n",
        "print(f'Average time between reviews: {average_time_between_reviews_days:.2f} days')"
      ],
      "metadata": {
        "colab": {
          "base_uri": "https://localhost:8080/"
        },
        "id": "CDp2wBo0d7re",
        "outputId": "65966d33-528c-4ec6-d900-4a449c3f879f"
      },
      "execution_count": 7,
      "outputs": [
        {
          "output_type": "stream",
          "name": "stdout",
          "text": [
            "Average time between reviews: 0.01 days\n"
          ]
        }
      ]
    },
    {
      "cell_type": "markdown",
      "source": [
        "### 2. Private Room Count\n",
        "\n"
      ],
      "metadata": {
        "id": "DuQ95ufEeMfx"
      }
    },
    {
      "cell_type": "code",
      "source": [
        "# Task 1: Percentage of Private Rooms\n",
        "\n",
        "# Objective: Determine what percentage of total listings are private rooms, providing a clear picture of the market's composition.\n",
        "\n",
        "# Count of private rooms\n",
        "private_rooms_count = room_type_data[room_type_data['room_type'] == 'Private room'].shape[0]\n",
        "\n",
        "# Total listings\n",
        "total_listings = room_type_data.shape[0]\n",
        "\n",
        "# Percentage of private rooms\n",
        "percentage_private_rooms = (private_rooms_count / total_listings) * 100\n",
        "print(f\"Percentage of private rooms: {percentage_private_rooms:.2f}%\")\n"
      ],
      "metadata": {
        "colab": {
          "base_uri": "https://localhost:8080/"
        },
        "id": "WcNituSJeYi-",
        "outputId": "32777923-a7eb-42c2-ee47-fa921d1b05f2"
      },
      "execution_count": 8,
      "outputs": [
        {
          "output_type": "stream",
          "name": "stdout",
          "text": [
            "Percentage of private rooms: 28.72%\n"
          ]
        }
      ]
    },
    {
      "cell_type": "code",
      "source": [
        "# Task 2: Private Room Distribution by Neighborhood\n",
        "\n",
        "# Objective: Analyze the distribution of private rooms across different neighborhoods to identify areas with higher concentrations of this room type.\n",
        "\n",
        "# Merging room type data with price data to get neighborhood information\n",
        "merged_data = pd.merge(room_type_data, price_data, on='listing_id')\n",
        "\n",
        "# Grouping by neighborhood and counting private rooms\n",
        "private_rooms_by_neighborhood = merged_data[merged_data['room_type'] == 'Private room'].groupby('nbhood_full').size().sort_values(ascending=False)\n",
        "\n",
        "# Displaying the top neighborhoods with the most private rooms\n",
        "private_rooms_by_neighborhood.head(10)\n"
      ],
      "metadata": {
        "colab": {
          "base_uri": "https://localhost:8080/",
          "height": 429
        },
        "id": "rO9IW2ShfDBE",
        "outputId": "cc9e9e3c-8c39-4748-c338-9f81958fec38"
      },
      "execution_count": 9,
      "outputs": [
        {
          "output_type": "execute_result",
          "data": {
            "text/plain": [
              "nbhood_full\n",
              "Brooklyn, Bedford-Stuyvesant     717\n",
              "Brooklyn, Williamsburg           549\n",
              "Manhattan, Harlem                512\n",
              "Brooklyn, Bushwick               495\n",
              "Manhattan, Hell's Kitchen        278\n",
              "Manhattan, East Harlem           225\n",
              "Brooklyn, Crown Heights          212\n",
              "Manhattan, Upper West Side       182\n",
              "Manhattan, Washington Heights    176\n",
              "Queens, Astoria                  165\n",
              "dtype: int64"
            ],
            "text/html": [
              "<div>\n",
              "<style scoped>\n",
              "    .dataframe tbody tr th:only-of-type {\n",
              "        vertical-align: middle;\n",
              "    }\n",
              "\n",
              "    .dataframe tbody tr th {\n",
              "        vertical-align: top;\n",
              "    }\n",
              "\n",
              "    .dataframe thead th {\n",
              "        text-align: right;\n",
              "    }\n",
              "</style>\n",
              "<table border=\"1\" class=\"dataframe\">\n",
              "  <thead>\n",
              "    <tr style=\"text-align: right;\">\n",
              "      <th></th>\n",
              "      <th>0</th>\n",
              "    </tr>\n",
              "    <tr>\n",
              "      <th>nbhood_full</th>\n",
              "      <th></th>\n",
              "    </tr>\n",
              "  </thead>\n",
              "  <tbody>\n",
              "    <tr>\n",
              "      <th>Brooklyn, Bedford-Stuyvesant</th>\n",
              "      <td>717</td>\n",
              "    </tr>\n",
              "    <tr>\n",
              "      <th>Brooklyn, Williamsburg</th>\n",
              "      <td>549</td>\n",
              "    </tr>\n",
              "    <tr>\n",
              "      <th>Manhattan, Harlem</th>\n",
              "      <td>512</td>\n",
              "    </tr>\n",
              "    <tr>\n",
              "      <th>Brooklyn, Bushwick</th>\n",
              "      <td>495</td>\n",
              "    </tr>\n",
              "    <tr>\n",
              "      <th>Manhattan, Hell's Kitchen</th>\n",
              "      <td>278</td>\n",
              "    </tr>\n",
              "    <tr>\n",
              "      <th>Manhattan, East Harlem</th>\n",
              "      <td>225</td>\n",
              "    </tr>\n",
              "    <tr>\n",
              "      <th>Brooklyn, Crown Heights</th>\n",
              "      <td>212</td>\n",
              "    </tr>\n",
              "    <tr>\n",
              "      <th>Manhattan, Upper West Side</th>\n",
              "      <td>182</td>\n",
              "    </tr>\n",
              "    <tr>\n",
              "      <th>Manhattan, Washington Heights</th>\n",
              "      <td>176</td>\n",
              "    </tr>\n",
              "    <tr>\n",
              "      <th>Queens, Astoria</th>\n",
              "      <td>165</td>\n",
              "    </tr>\n",
              "  </tbody>\n",
              "</table>\n",
              "</div><br><label><b>dtype:</b> int64</label>"
            ]
          },
          "metadata": {},
          "execution_count": 9
        }
      ]
    },
    {
      "cell_type": "markdown",
      "source": [
        "The insight reveals the top neighborhoods with the most private room listings:\n",
        "\n",
        "- Brooklyn, Bedford-Stuyvesant: 717 private rooms\n",
        "- Brooklyn, Williamsburg: 549 private rooms\n",
        "- Manhattan, Harlem: 512 private rooms\n",
        "- Brooklyn, Bushwick: 495 private rooms\n",
        "- Manhattan, Hell's Kitchen: 278 private rooms\n",
        "- Manhattan, East Harlem: 225 private rooms\n",
        "- Brooklyn, Crown Heights: 212 private rooms\n",
        "- Manhattan, Upper West Side: 182 private rooms\n",
        "- Manhattan, Washington Heights: 176 private rooms\n",
        "- Queens, Astoria: 165 private rooms"
      ],
      "metadata": {
        "id": "vT0scvqQgFuP"
      }
    },
    {
      "cell_type": "code",
      "source": [
        "# Task 3: Analyze Average Prices by Neighborhood\n",
        "\n",
        "avg_price_by_neighborhood = merged_data[merged_data['room_type'] == 'Private room'].groupby('nbhood_full')['price'].mean().sort_values(ascending=False)\n"
      ],
      "metadata": {
        "colab": {
          "base_uri": "https://localhost:8080/",
          "height": 408
        },
        "id": "i3m0NQd_ggGc",
        "outputId": "76e0dff0-9f88-43fa-f0d1-152f8923bf36"
      },
      "execution_count": 10,
      "outputs": [
        {
          "output_type": "error",
          "ename": "TypeError",
          "evalue": "agg function failed [how->mean,dtype->object]",
          "traceback": [
            "\u001b[0;31m---------------------------------------------------------------------------\u001b[0m",
            "\u001b[0;31mTypeError\u001b[0m                                 Traceback (most recent call last)",
            "\u001b[0;32m/usr/local/lib/python3.10/dist-packages/pandas/core/groupby/groupby.py\u001b[0m in \u001b[0;36m_agg_py_fallback\u001b[0;34m(self, how, values, ndim, alt)\u001b[0m\n\u001b[1;32m   1873\u001b[0m         \u001b[0;32mtry\u001b[0m\u001b[0;34m:\u001b[0m\u001b[0;34m\u001b[0m\u001b[0;34m\u001b[0m\u001b[0m\n\u001b[0;32m-> 1874\u001b[0;31m             \u001b[0mres_values\u001b[0m \u001b[0;34m=\u001b[0m \u001b[0mself\u001b[0m\u001b[0;34m.\u001b[0m\u001b[0mgrouper\u001b[0m\u001b[0;34m.\u001b[0m\u001b[0magg_series\u001b[0m\u001b[0;34m(\u001b[0m\u001b[0mser\u001b[0m\u001b[0;34m,\u001b[0m \u001b[0malt\u001b[0m\u001b[0;34m,\u001b[0m \u001b[0mpreserve_dtype\u001b[0m\u001b[0;34m=\u001b[0m\u001b[0;32mTrue\u001b[0m\u001b[0;34m)\u001b[0m\u001b[0;34m\u001b[0m\u001b[0;34m\u001b[0m\u001b[0m\n\u001b[0m\u001b[1;32m   1875\u001b[0m         \u001b[0;32mexcept\u001b[0m \u001b[0mException\u001b[0m \u001b[0;32mas\u001b[0m \u001b[0merr\u001b[0m\u001b[0;34m:\u001b[0m\u001b[0;34m\u001b[0m\u001b[0;34m\u001b[0m\u001b[0m\n",
            "\u001b[0;32m/usr/local/lib/python3.10/dist-packages/pandas/core/groupby/ops.py\u001b[0m in \u001b[0;36magg_series\u001b[0;34m(self, obj, func, preserve_dtype)\u001b[0m\n\u001b[1;32m    848\u001b[0m \u001b[0;34m\u001b[0m\u001b[0m\n\u001b[0;32m--> 849\u001b[0;31m         \u001b[0mresult\u001b[0m \u001b[0;34m=\u001b[0m \u001b[0mself\u001b[0m\u001b[0;34m.\u001b[0m\u001b[0m_aggregate_series_pure_python\u001b[0m\u001b[0;34m(\u001b[0m\u001b[0mobj\u001b[0m\u001b[0;34m,\u001b[0m \u001b[0mfunc\u001b[0m\u001b[0;34m)\u001b[0m\u001b[0;34m\u001b[0m\u001b[0;34m\u001b[0m\u001b[0m\n\u001b[0m\u001b[1;32m    850\u001b[0m \u001b[0;34m\u001b[0m\u001b[0m\n",
            "\u001b[0;32m/usr/local/lib/python3.10/dist-packages/pandas/core/groupby/ops.py\u001b[0m in \u001b[0;36m_aggregate_series_pure_python\u001b[0;34m(self, obj, func)\u001b[0m\n\u001b[1;32m    876\u001b[0m         \u001b[0;32mfor\u001b[0m \u001b[0mi\u001b[0m\u001b[0;34m,\u001b[0m \u001b[0mgroup\u001b[0m \u001b[0;32min\u001b[0m \u001b[0menumerate\u001b[0m\u001b[0;34m(\u001b[0m\u001b[0msplitter\u001b[0m\u001b[0;34m)\u001b[0m\u001b[0;34m:\u001b[0m\u001b[0;34m\u001b[0m\u001b[0;34m\u001b[0m\u001b[0m\n\u001b[0;32m--> 877\u001b[0;31m             \u001b[0mres\u001b[0m \u001b[0;34m=\u001b[0m \u001b[0mfunc\u001b[0m\u001b[0;34m(\u001b[0m\u001b[0mgroup\u001b[0m\u001b[0;34m)\u001b[0m\u001b[0;34m\u001b[0m\u001b[0;34m\u001b[0m\u001b[0m\n\u001b[0m\u001b[1;32m    878\u001b[0m             \u001b[0mres\u001b[0m \u001b[0;34m=\u001b[0m \u001b[0mextract_result\u001b[0m\u001b[0;34m(\u001b[0m\u001b[0mres\u001b[0m\u001b[0;34m)\u001b[0m\u001b[0;34m\u001b[0m\u001b[0;34m\u001b[0m\u001b[0m\n",
            "\u001b[0;32m/usr/local/lib/python3.10/dist-packages/pandas/core/groupby/groupby.py\u001b[0m in \u001b[0;36m<lambda>\u001b[0;34m(x)\u001b[0m\n\u001b[1;32m   2379\u001b[0m                 \u001b[0;34m\"mean\"\u001b[0m\u001b[0;34m,\u001b[0m\u001b[0;34m\u001b[0m\u001b[0;34m\u001b[0m\u001b[0m\n\u001b[0;32m-> 2380\u001b[0;31m                 \u001b[0malt\u001b[0m\u001b[0;34m=\u001b[0m\u001b[0;32mlambda\u001b[0m \u001b[0mx\u001b[0m\u001b[0;34m:\u001b[0m \u001b[0mSeries\u001b[0m\u001b[0;34m(\u001b[0m\u001b[0mx\u001b[0m\u001b[0;34m)\u001b[0m\u001b[0;34m.\u001b[0m\u001b[0mmean\u001b[0m\u001b[0;34m(\u001b[0m\u001b[0mnumeric_only\u001b[0m\u001b[0;34m=\u001b[0m\u001b[0mnumeric_only\u001b[0m\u001b[0;34m)\u001b[0m\u001b[0;34m,\u001b[0m\u001b[0;34m\u001b[0m\u001b[0;34m\u001b[0m\u001b[0m\n\u001b[0m\u001b[1;32m   2381\u001b[0m                 \u001b[0mnumeric_only\u001b[0m\u001b[0;34m=\u001b[0m\u001b[0mnumeric_only\u001b[0m\u001b[0;34m,\u001b[0m\u001b[0;34m\u001b[0m\u001b[0;34m\u001b[0m\u001b[0m\n",
            "\u001b[0;32m/usr/local/lib/python3.10/dist-packages/pandas/core/series.py\u001b[0m in \u001b[0;36mmean\u001b[0;34m(self, axis, skipna, numeric_only, **kwargs)\u001b[0m\n\u001b[1;32m   6224\u001b[0m     ):\n\u001b[0;32m-> 6225\u001b[0;31m         \u001b[0;32mreturn\u001b[0m \u001b[0mNDFrame\u001b[0m\u001b[0;34m.\u001b[0m\u001b[0mmean\u001b[0m\u001b[0;34m(\u001b[0m\u001b[0mself\u001b[0m\u001b[0;34m,\u001b[0m \u001b[0maxis\u001b[0m\u001b[0;34m,\u001b[0m \u001b[0mskipna\u001b[0m\u001b[0;34m,\u001b[0m \u001b[0mnumeric_only\u001b[0m\u001b[0;34m,\u001b[0m \u001b[0;34m**\u001b[0m\u001b[0mkwargs\u001b[0m\u001b[0;34m)\u001b[0m\u001b[0;34m\u001b[0m\u001b[0;34m\u001b[0m\u001b[0m\n\u001b[0m\u001b[1;32m   6226\u001b[0m \u001b[0;34m\u001b[0m\u001b[0m\n",
            "\u001b[0;32m/usr/local/lib/python3.10/dist-packages/pandas/core/generic.py\u001b[0m in \u001b[0;36mmean\u001b[0;34m(self, axis, skipna, numeric_only, **kwargs)\u001b[0m\n\u001b[1;32m  11991\u001b[0m     ) -> Series | float:\n\u001b[0;32m> 11992\u001b[0;31m         return self._stat_function(\n\u001b[0m\u001b[1;32m  11993\u001b[0m             \u001b[0;34m\"mean\"\u001b[0m\u001b[0;34m,\u001b[0m \u001b[0mnanops\u001b[0m\u001b[0;34m.\u001b[0m\u001b[0mnanmean\u001b[0m\u001b[0;34m,\u001b[0m \u001b[0maxis\u001b[0m\u001b[0;34m,\u001b[0m \u001b[0mskipna\u001b[0m\u001b[0;34m,\u001b[0m \u001b[0mnumeric_only\u001b[0m\u001b[0;34m,\u001b[0m \u001b[0;34m**\u001b[0m\u001b[0mkwargs\u001b[0m\u001b[0;34m\u001b[0m\u001b[0;34m\u001b[0m\u001b[0m\n",
            "\u001b[0;32m/usr/local/lib/python3.10/dist-packages/pandas/core/generic.py\u001b[0m in \u001b[0;36m_stat_function\u001b[0;34m(self, name, func, axis, skipna, numeric_only, **kwargs)\u001b[0m\n\u001b[1;32m  11948\u001b[0m \u001b[0;34m\u001b[0m\u001b[0m\n\u001b[0;32m> 11949\u001b[0;31m         return self._reduce(\n\u001b[0m\u001b[1;32m  11950\u001b[0m             \u001b[0mfunc\u001b[0m\u001b[0;34m,\u001b[0m \u001b[0mname\u001b[0m\u001b[0;34m=\u001b[0m\u001b[0mname\u001b[0m\u001b[0;34m,\u001b[0m \u001b[0maxis\u001b[0m\u001b[0;34m=\u001b[0m\u001b[0maxis\u001b[0m\u001b[0;34m,\u001b[0m \u001b[0mskipna\u001b[0m\u001b[0;34m=\u001b[0m\u001b[0mskipna\u001b[0m\u001b[0;34m,\u001b[0m \u001b[0mnumeric_only\u001b[0m\u001b[0;34m=\u001b[0m\u001b[0mnumeric_only\u001b[0m\u001b[0;34m\u001b[0m\u001b[0;34m\u001b[0m\u001b[0m\n",
            "\u001b[0;32m/usr/local/lib/python3.10/dist-packages/pandas/core/series.py\u001b[0m in \u001b[0;36m_reduce\u001b[0;34m(self, op, name, axis, skipna, numeric_only, filter_type, **kwds)\u001b[0m\n\u001b[1;32m   6132\u001b[0m                 )\n\u001b[0;32m-> 6133\u001b[0;31m             \u001b[0;32mreturn\u001b[0m \u001b[0mop\u001b[0m\u001b[0;34m(\u001b[0m\u001b[0mdelegate\u001b[0m\u001b[0;34m,\u001b[0m \u001b[0mskipna\u001b[0m\u001b[0;34m=\u001b[0m\u001b[0mskipna\u001b[0m\u001b[0;34m,\u001b[0m \u001b[0;34m**\u001b[0m\u001b[0mkwds\u001b[0m\u001b[0;34m)\u001b[0m\u001b[0;34m\u001b[0m\u001b[0;34m\u001b[0m\u001b[0m\n\u001b[0m\u001b[1;32m   6134\u001b[0m \u001b[0;34m\u001b[0m\u001b[0m\n",
            "\u001b[0;32m/usr/local/lib/python3.10/dist-packages/pandas/core/nanops.py\u001b[0m in \u001b[0;36mf\u001b[0;34m(values, axis, skipna, **kwds)\u001b[0m\n\u001b[1;32m    146\u001b[0m             \u001b[0;32melse\u001b[0m\u001b[0;34m:\u001b[0m\u001b[0;34m\u001b[0m\u001b[0;34m\u001b[0m\u001b[0m\n\u001b[0;32m--> 147\u001b[0;31m                 \u001b[0mresult\u001b[0m \u001b[0;34m=\u001b[0m \u001b[0malt\u001b[0m\u001b[0;34m(\u001b[0m\u001b[0mvalues\u001b[0m\u001b[0;34m,\u001b[0m \u001b[0maxis\u001b[0m\u001b[0;34m=\u001b[0m\u001b[0maxis\u001b[0m\u001b[0;34m,\u001b[0m \u001b[0mskipna\u001b[0m\u001b[0;34m=\u001b[0m\u001b[0mskipna\u001b[0m\u001b[0;34m,\u001b[0m \u001b[0;34m**\u001b[0m\u001b[0mkwds\u001b[0m\u001b[0;34m)\u001b[0m\u001b[0;34m\u001b[0m\u001b[0;34m\u001b[0m\u001b[0m\n\u001b[0m\u001b[1;32m    148\u001b[0m \u001b[0;34m\u001b[0m\u001b[0m\n",
            "\u001b[0;32m/usr/local/lib/python3.10/dist-packages/pandas/core/nanops.py\u001b[0m in \u001b[0;36mnew_func\u001b[0;34m(values, axis, skipna, mask, **kwargs)\u001b[0m\n\u001b[1;32m    403\u001b[0m \u001b[0;34m\u001b[0m\u001b[0m\n\u001b[0;32m--> 404\u001b[0;31m         \u001b[0mresult\u001b[0m \u001b[0;34m=\u001b[0m \u001b[0mfunc\u001b[0m\u001b[0;34m(\u001b[0m\u001b[0mvalues\u001b[0m\u001b[0;34m,\u001b[0m \u001b[0maxis\u001b[0m\u001b[0;34m=\u001b[0m\u001b[0maxis\u001b[0m\u001b[0;34m,\u001b[0m \u001b[0mskipna\u001b[0m\u001b[0;34m=\u001b[0m\u001b[0mskipna\u001b[0m\u001b[0;34m,\u001b[0m \u001b[0mmask\u001b[0m\u001b[0;34m=\u001b[0m\u001b[0mmask\u001b[0m\u001b[0;34m,\u001b[0m \u001b[0;34m**\u001b[0m\u001b[0mkwargs\u001b[0m\u001b[0;34m)\u001b[0m\u001b[0;34m\u001b[0m\u001b[0;34m\u001b[0m\u001b[0m\n\u001b[0m\u001b[1;32m    405\u001b[0m \u001b[0;34m\u001b[0m\u001b[0m\n",
            "\u001b[0;32m/usr/local/lib/python3.10/dist-packages/pandas/core/nanops.py\u001b[0m in \u001b[0;36mnanmean\u001b[0;34m(values, axis, skipna, mask)\u001b[0m\n\u001b[1;32m    719\u001b[0m     \u001b[0mthe_sum\u001b[0m \u001b[0;34m=\u001b[0m \u001b[0mvalues\u001b[0m\u001b[0;34m.\u001b[0m\u001b[0msum\u001b[0m\u001b[0;34m(\u001b[0m\u001b[0maxis\u001b[0m\u001b[0;34m,\u001b[0m \u001b[0mdtype\u001b[0m\u001b[0;34m=\u001b[0m\u001b[0mdtype_sum\u001b[0m\u001b[0;34m)\u001b[0m\u001b[0;34m\u001b[0m\u001b[0;34m\u001b[0m\u001b[0m\n\u001b[0;32m--> 720\u001b[0;31m     \u001b[0mthe_sum\u001b[0m \u001b[0;34m=\u001b[0m \u001b[0m_ensure_numeric\u001b[0m\u001b[0;34m(\u001b[0m\u001b[0mthe_sum\u001b[0m\u001b[0;34m)\u001b[0m\u001b[0;34m\u001b[0m\u001b[0;34m\u001b[0m\u001b[0m\n\u001b[0m\u001b[1;32m    721\u001b[0m \u001b[0;34m\u001b[0m\u001b[0m\n",
            "\u001b[0;32m/usr/local/lib/python3.10/dist-packages/pandas/core/nanops.py\u001b[0m in \u001b[0;36m_ensure_numeric\u001b[0;34m(x)\u001b[0m\n\u001b[1;32m   1692\u001b[0m             \u001b[0;31m# GH#44008, GH#36703 avoid casting e.g. strings to numeric\u001b[0m\u001b[0;34m\u001b[0m\u001b[0;34m\u001b[0m\u001b[0m\n\u001b[0;32m-> 1693\u001b[0;31m             \u001b[0;32mraise\u001b[0m \u001b[0mTypeError\u001b[0m\u001b[0;34m(\u001b[0m\u001b[0;34mf\"Could not convert string '{x}' to numeric\"\u001b[0m\u001b[0;34m)\u001b[0m\u001b[0;34m\u001b[0m\u001b[0;34m\u001b[0m\u001b[0m\n\u001b[0m\u001b[1;32m   1694\u001b[0m         \u001b[0;32mtry\u001b[0m\u001b[0;34m:\u001b[0m\u001b[0;34m\u001b[0m\u001b[0;34m\u001b[0m\u001b[0m\n",
            "\u001b[0;31mTypeError\u001b[0m: Could not convert string '39 dollars38 dollars49 dollars47 dollars85 dollars45 dollars142 dollars35 dollars80 dollars36 dollars38 dollars' to numeric",
            "\nThe above exception was the direct cause of the following exception:\n",
            "\u001b[0;31mTypeError\u001b[0m                                 Traceback (most recent call last)",
            "\u001b[0;32m<ipython-input-10-729d10e9d946>\u001b[0m in \u001b[0;36m<cell line: 3>\u001b[0;34m()\u001b[0m\n\u001b[1;32m      1\u001b[0m \u001b[0;31m# Task 3: Analyze Average Prices by Neighborhood\u001b[0m\u001b[0;34m\u001b[0m\u001b[0;34m\u001b[0m\u001b[0m\n\u001b[1;32m      2\u001b[0m \u001b[0;34m\u001b[0m\u001b[0m\n\u001b[0;32m----> 3\u001b[0;31m \u001b[0mavg_price_by_neighborhood\u001b[0m \u001b[0;34m=\u001b[0m \u001b[0mmerged_data\u001b[0m\u001b[0;34m[\u001b[0m\u001b[0mmerged_data\u001b[0m\u001b[0;34m[\u001b[0m\u001b[0;34m'room_type'\u001b[0m\u001b[0;34m]\u001b[0m \u001b[0;34m==\u001b[0m \u001b[0;34m'Private room'\u001b[0m\u001b[0;34m]\u001b[0m\u001b[0;34m.\u001b[0m\u001b[0mgroupby\u001b[0m\u001b[0;34m(\u001b[0m\u001b[0;34m'nbhood_full'\u001b[0m\u001b[0;34m)\u001b[0m\u001b[0;34m[\u001b[0m\u001b[0;34m'price'\u001b[0m\u001b[0;34m]\u001b[0m\u001b[0;34m.\u001b[0m\u001b[0mmean\u001b[0m\u001b[0;34m(\u001b[0m\u001b[0;34m)\u001b[0m\u001b[0;34m.\u001b[0m\u001b[0msort_values\u001b[0m\u001b[0;34m(\u001b[0m\u001b[0mascending\u001b[0m\u001b[0;34m=\u001b[0m\u001b[0;32mFalse\u001b[0m\u001b[0;34m)\u001b[0m\u001b[0;34m\u001b[0m\u001b[0;34m\u001b[0m\u001b[0m\n\u001b[0m",
            "\u001b[0;32m/usr/local/lib/python3.10/dist-packages/pandas/core/groupby/groupby.py\u001b[0m in \u001b[0;36mmean\u001b[0;34m(self, numeric_only, engine, engine_kwargs)\u001b[0m\n\u001b[1;32m   2376\u001b[0m             )\n\u001b[1;32m   2377\u001b[0m         \u001b[0;32melse\u001b[0m\u001b[0;34m:\u001b[0m\u001b[0;34m\u001b[0m\u001b[0;34m\u001b[0m\u001b[0m\n\u001b[0;32m-> 2378\u001b[0;31m             result = self._cython_agg_general(\n\u001b[0m\u001b[1;32m   2379\u001b[0m                 \u001b[0;34m\"mean\"\u001b[0m\u001b[0;34m,\u001b[0m\u001b[0;34m\u001b[0m\u001b[0;34m\u001b[0m\u001b[0m\n\u001b[1;32m   2380\u001b[0m                 \u001b[0malt\u001b[0m\u001b[0;34m=\u001b[0m\u001b[0;32mlambda\u001b[0m \u001b[0mx\u001b[0m\u001b[0;34m:\u001b[0m \u001b[0mSeries\u001b[0m\u001b[0;34m(\u001b[0m\u001b[0mx\u001b[0m\u001b[0;34m)\u001b[0m\u001b[0;34m.\u001b[0m\u001b[0mmean\u001b[0m\u001b[0;34m(\u001b[0m\u001b[0mnumeric_only\u001b[0m\u001b[0;34m=\u001b[0m\u001b[0mnumeric_only\u001b[0m\u001b[0;34m)\u001b[0m\u001b[0;34m,\u001b[0m\u001b[0;34m\u001b[0m\u001b[0;34m\u001b[0m\u001b[0m\n",
            "\u001b[0;32m/usr/local/lib/python3.10/dist-packages/pandas/core/groupby/groupby.py\u001b[0m in \u001b[0;36m_cython_agg_general\u001b[0;34m(self, how, alt, numeric_only, min_count, **kwargs)\u001b[0m\n\u001b[1;32m   1927\u001b[0m             \u001b[0;32mreturn\u001b[0m \u001b[0mresult\u001b[0m\u001b[0;34m\u001b[0m\u001b[0;34m\u001b[0m\u001b[0m\n\u001b[1;32m   1928\u001b[0m \u001b[0;34m\u001b[0m\u001b[0m\n\u001b[0;32m-> 1929\u001b[0;31m         \u001b[0mnew_mgr\u001b[0m \u001b[0;34m=\u001b[0m \u001b[0mdata\u001b[0m\u001b[0;34m.\u001b[0m\u001b[0mgrouped_reduce\u001b[0m\u001b[0;34m(\u001b[0m\u001b[0marray_func\u001b[0m\u001b[0;34m)\u001b[0m\u001b[0;34m\u001b[0m\u001b[0;34m\u001b[0m\u001b[0m\n\u001b[0m\u001b[1;32m   1930\u001b[0m         \u001b[0mres\u001b[0m \u001b[0;34m=\u001b[0m \u001b[0mself\u001b[0m\u001b[0;34m.\u001b[0m\u001b[0m_wrap_agged_manager\u001b[0m\u001b[0;34m(\u001b[0m\u001b[0mnew_mgr\u001b[0m\u001b[0;34m)\u001b[0m\u001b[0;34m\u001b[0m\u001b[0;34m\u001b[0m\u001b[0m\n\u001b[1;32m   1931\u001b[0m         \u001b[0mout\u001b[0m \u001b[0;34m=\u001b[0m \u001b[0mself\u001b[0m\u001b[0;34m.\u001b[0m\u001b[0m_wrap_aggregated_output\u001b[0m\u001b[0;34m(\u001b[0m\u001b[0mres\u001b[0m\u001b[0;34m)\u001b[0m\u001b[0;34m\u001b[0m\u001b[0;34m\u001b[0m\u001b[0m\n",
            "\u001b[0;32m/usr/local/lib/python3.10/dist-packages/pandas/core/internals/base.py\u001b[0m in \u001b[0;36mgrouped_reduce\u001b[0;34m(self, func)\u001b[0m\n\u001b[1;32m    334\u001b[0m     \u001b[0;32mdef\u001b[0m \u001b[0mgrouped_reduce\u001b[0m\u001b[0;34m(\u001b[0m\u001b[0mself\u001b[0m\u001b[0;34m,\u001b[0m \u001b[0mfunc\u001b[0m\u001b[0;34m)\u001b[0m\u001b[0;34m:\u001b[0m\u001b[0;34m\u001b[0m\u001b[0;34m\u001b[0m\u001b[0m\n\u001b[1;32m    335\u001b[0m         \u001b[0marr\u001b[0m \u001b[0;34m=\u001b[0m \u001b[0mself\u001b[0m\u001b[0;34m.\u001b[0m\u001b[0marray\u001b[0m\u001b[0;34m\u001b[0m\u001b[0;34m\u001b[0m\u001b[0m\n\u001b[0;32m--> 336\u001b[0;31m         \u001b[0mres\u001b[0m \u001b[0;34m=\u001b[0m \u001b[0mfunc\u001b[0m\u001b[0;34m(\u001b[0m\u001b[0marr\u001b[0m\u001b[0;34m)\u001b[0m\u001b[0;34m\u001b[0m\u001b[0;34m\u001b[0m\u001b[0m\n\u001b[0m\u001b[1;32m    337\u001b[0m         \u001b[0mindex\u001b[0m \u001b[0;34m=\u001b[0m \u001b[0mdefault_index\u001b[0m\u001b[0;34m(\u001b[0m\u001b[0mlen\u001b[0m\u001b[0;34m(\u001b[0m\u001b[0mres\u001b[0m\u001b[0;34m)\u001b[0m\u001b[0;34m)\u001b[0m\u001b[0;34m\u001b[0m\u001b[0;34m\u001b[0m\u001b[0m\n\u001b[1;32m    338\u001b[0m \u001b[0;34m\u001b[0m\u001b[0m\n",
            "\u001b[0;32m/usr/local/lib/python3.10/dist-packages/pandas/core/groupby/groupby.py\u001b[0m in \u001b[0;36marray_func\u001b[0;34m(values)\u001b[0m\n\u001b[1;32m   1924\u001b[0m                 \u001b[0;32mreturn\u001b[0m \u001b[0mresult\u001b[0m\u001b[0;34m\u001b[0m\u001b[0;34m\u001b[0m\u001b[0m\n\u001b[1;32m   1925\u001b[0m \u001b[0;34m\u001b[0m\u001b[0m\n\u001b[0;32m-> 1926\u001b[0;31m             \u001b[0mresult\u001b[0m \u001b[0;34m=\u001b[0m \u001b[0mself\u001b[0m\u001b[0;34m.\u001b[0m\u001b[0m_agg_py_fallback\u001b[0m\u001b[0;34m(\u001b[0m\u001b[0mhow\u001b[0m\u001b[0;34m,\u001b[0m \u001b[0mvalues\u001b[0m\u001b[0;34m,\u001b[0m \u001b[0mndim\u001b[0m\u001b[0;34m=\u001b[0m\u001b[0mdata\u001b[0m\u001b[0;34m.\u001b[0m\u001b[0mndim\u001b[0m\u001b[0;34m,\u001b[0m \u001b[0malt\u001b[0m\u001b[0;34m=\u001b[0m\u001b[0malt\u001b[0m\u001b[0;34m)\u001b[0m\u001b[0;34m\u001b[0m\u001b[0;34m\u001b[0m\u001b[0m\n\u001b[0m\u001b[1;32m   1927\u001b[0m             \u001b[0;32mreturn\u001b[0m \u001b[0mresult\u001b[0m\u001b[0;34m\u001b[0m\u001b[0;34m\u001b[0m\u001b[0m\n\u001b[1;32m   1928\u001b[0m \u001b[0;34m\u001b[0m\u001b[0m\n",
            "\u001b[0;32m/usr/local/lib/python3.10/dist-packages/pandas/core/groupby/groupby.py\u001b[0m in \u001b[0;36m_agg_py_fallback\u001b[0;34m(self, how, values, ndim, alt)\u001b[0m\n\u001b[1;32m   1876\u001b[0m             \u001b[0mmsg\u001b[0m \u001b[0;34m=\u001b[0m \u001b[0;34mf\"agg function failed [how->{how},dtype->{ser.dtype}]\"\u001b[0m\u001b[0;34m\u001b[0m\u001b[0;34m\u001b[0m\u001b[0m\n\u001b[1;32m   1877\u001b[0m             \u001b[0;31m# preserve the kind of exception that raised\u001b[0m\u001b[0;34m\u001b[0m\u001b[0;34m\u001b[0m\u001b[0m\n\u001b[0;32m-> 1878\u001b[0;31m             \u001b[0;32mraise\u001b[0m \u001b[0mtype\u001b[0m\u001b[0;34m(\u001b[0m\u001b[0merr\u001b[0m\u001b[0;34m)\u001b[0m\u001b[0;34m(\u001b[0m\u001b[0mmsg\u001b[0m\u001b[0;34m)\u001b[0m \u001b[0;32mfrom\u001b[0m \u001b[0merr\u001b[0m\u001b[0;34m\u001b[0m\u001b[0;34m\u001b[0m\u001b[0m\n\u001b[0m\u001b[1;32m   1879\u001b[0m \u001b[0;34m\u001b[0m\u001b[0m\n\u001b[1;32m   1880\u001b[0m         \u001b[0;32mif\u001b[0m \u001b[0mser\u001b[0m\u001b[0;34m.\u001b[0m\u001b[0mdtype\u001b[0m \u001b[0;34m==\u001b[0m \u001b[0mobject\u001b[0m\u001b[0;34m:\u001b[0m\u001b[0;34m\u001b[0m\u001b[0;34m\u001b[0m\u001b[0m\n",
            "\u001b[0;31mTypeError\u001b[0m: agg function failed [how->mean,dtype->object]"
          ]
        }
      ]
    },
    {
      "cell_type": "code",
      "source": [
        "# Merging room type data with price data to get neighborhood information\n",
        "merged_data = pd.merge(room_type_data, price_data, on='listing_id')\n",
        "\n",
        "# Clean the 'price' column: Remove non-numeric characters and convert to float\n",
        "merged_data['price'] = merged_data['price'].replace(r'[^\\d.]+', '', regex=True).astype(float)\n",
        "\n",
        "# Verify that the price column is numeric and clean\n",
        "print(merged_data['price'].dtype)\n",
        "print(merged_data['price'].head())\n",
        "\n",
        "# Group by neighborhood and calculate average price for private rooms\n",
        "avg_price_by_neighborhood = merged_data[merged_data['room_type'] == 'Private room'].groupby('nbhood_full')['price'].mean().sort_values(ascending=False)\n",
        "\n",
        "# Display the result\n",
        "print(avg_price_by_neighborhood.head(10))"
      ],
      "metadata": {
        "colab": {
          "base_uri": "https://localhost:8080/"
        },
        "id": "PP_HaeKViDeq",
        "outputId": "483f0c51-0f7e-4064-a5ec-16f00723f303"
      },
      "execution_count": 12,
      "outputs": [
        {
          "output_type": "stream",
          "name": "stdout",
          "text": [
            "float64\n",
            "0    225.0\n",
            "1     89.0\n",
            "2    200.0\n",
            "3     79.0\n",
            "4    150.0\n",
            "Name: price, dtype: float64\n",
            "nbhood_full\n",
            "Queens, Holliswood               239.000000\n",
            "Manhattan, West Village          224.026316\n",
            "Queens, Belle Harbor             212.500000\n",
            "Manhattan, NoHo                  208.000000\n",
            "Queens, Breezy Point             195.000000\n",
            "Brooklyn, Coney Island           192.500000\n",
            "Manhattan, Theater District      183.512195\n",
            "Manhattan, Midtown               173.011494\n",
            "Manhattan, Financial District    160.895833\n",
            "Manhattan, Tribeca               158.875000\n",
            "Name: price, dtype: float64\n"
          ]
        }
      ]
    },
    {
      "cell_type": "markdown",
      "source": [
        "#### Average Price of Private Rooms by Neighborhood in New York City\n",
        "\n",
        "The following table shows the top 10 neighborhoods with the highest average prices for private room listings:\n",
        "\n",
        "- Queens, Holliswood - $239.00\n",
        "\n",
        "- Manhattan, West Village   -  $224.03  \n",
        "\n",
        "- Queens, Belle Harbor  -     $212.50\n",
        "\n",
        "- Manhattan, NoHo       -      $208.00\n",
        "\n",
        "- Queens, Breezy Point    -    $195.00  \n",
        "\n",
        "- Brooklyn, Coney Island  -    $192.50  \n",
        "\n",
        "- Manhattan, Theater District - $183.51\n",
        "\n",
        "- Manhattan, Midtown     -     $173.01\n",
        "\n",
        "- Manhattan, Financial District  - $160.90\n",
        "         \n",
        "- Manhattan, Tribeca      -    $158.88            \n",
        "\n",
        "These insights highlight the neighborhoods where private room listings have the highest average prices, reflecting the premium locations within New York City.\n"
      ],
      "metadata": {
        "id": "HDpl7elvjncE"
      }
    },
    {
      "cell_type": "code",
      "source": [
        "private_rooms_price_comparison = merged_data[merged_data['room_type'] == 'Private room'].groupby('nbhood_full').agg({'price': ['mean', 'median', 'std']})\n"
      ],
      "metadata": {
        "id": "hVUnXszTjwtF"
      },
      "execution_count": 13,
      "outputs": []
    },
    {
      "cell_type": "code",
      "source": [
        "import matplotlib.pyplot as plt\n",
        "\n",
        "plt.figure(figsize=(12, 8))\n",
        "private_rooms_by_neighborhood.head(10).plot(kind='bar', color='skyblue')\n",
        "plt.title('Top 10 Neighborhoods with Most Private Rooms')\n",
        "plt.xlabel('Neighborhood')\n",
        "plt.ylabel('Number of Private Rooms')\n",
        "plt.xticks(rotation=45)\n",
        "plt.show()"
      ],
      "metadata": {
        "colab": {
          "base_uri": "https://localhost:8080/",
          "height": 872
        },
        "id": "SEfnf6yylcs_",
        "outputId": "8b3e70aa-b509-4549-882a-eb6d5d3bdb4a"
      },
      "execution_count": 15,
      "outputs": [
        {
          "output_type": "display_data",
          "data": {
            "text/plain": [
              "<Figure size 1200x800 with 1 Axes>"
            ],
            "image/png": "[encoded data removed]"
          },
          "metadata": {}
        }
      ]
    },
    {
      "cell_type": "markdown",
      "source": [
        "## 3. Price Analysis\n",
        "\n"
      ],
      "metadata": {
        "id": "28IHvCuOl83e"
      }
    },
    {
      "cell_type": "code",
      "source": [
        "# Task 1: Price Distribution\n",
        "\n",
        "# Objective: Analyze the distribution of prices to understand the range and common price points in the NYC Airbnb market.\n",
        "\n",
        "import pandas as pd\n",
        "import numpy as np\n",
        "\n",
        "# Assuming price_data is your DataFrame\n",
        "# Sample data for illustration\n",
        "# price_data = pd.DataFrame({'price': ['225 dollars', '150$', '125.50', '200 dollars', '300']})\n",
        "\n",
        "# Inspect a few values to understand the non-numeric characters\n",
        "print(price_data['price'].head())\n",
        "\n",
        "# Clean the 'price' column: Remove non-numeric characters and convert to float\n",
        "# First replace any non-numeric characters, keeping only digits and dots\n",
        "price_data['price'] = price_data['price'].replace('[\\$,dollars]', '', regex=True).str.strip()\n",
        "\n",
        "# Convert cleaned column to numeric (float)\n",
        "price_data['price'] = pd.to_numeric(price_data['price'], errors='coerce')\n",
        "\n",
        "# Verify the conversion\n",
        "print(price_data['price'].dtype)\n",
        "\n",
        "# Drop rows where 'price' could not be converted to numeric (optional)\n",
        "price_data = price_data.dropna(subset=['price'])\n",
        "\n",
        "# Plotting the price distribution\n",
        "price_data['price'].plot(kind='hist', bins=50, title='Price Distribution of Airbnb Listings')\n",
        "\n",
        "\n"
      ],
      "metadata": {
        "colab": {
          "base_uri": "https://localhost:8080/",
          "height": 591
        },
        "id": "sM403jeImDnS",
        "outputId": "2bcb847c-3bde-4570-eee6-477ff6e79c54"
      },
      "execution_count": 19,
      "outputs": [
        {
          "output_type": "stream",
          "name": "stdout",
          "text": [
            "0    225 dollars\n",
            "1     89 dollars\n",
            "2    200 dollars\n",
            "3     79 dollars\n",
            "4    150 dollars\n",
            "Name: price, dtype: object\n",
            "int64\n"
          ]
        },
        {
          "output_type": "execute_result",
          "data": {
            "text/plain": [
              "<Axes: title={'center': 'Price Distribution of Airbnb Listings'}, ylabel='Frequency'>"
            ]
          },
          "metadata": {},
          "execution_count": 19
        },
        {
          "output_type": "display_data",
          "data": {
            "text/plain": [
              "<Figure size 640x480 with 1 Axes>"
            ],
            "image/png": "[encoded data removed]"
          },
          "metadata": {}
        }
      ]
    },
    {
      "cell_type": "markdown",
      "source": [
        "The histogram above visualizes the distribution of Airbnb listing prices in New York City. Initially, the `price` column contained non-numeric values such as '225 dollars', '89 dollars', and '150 dollars'. These values were cleaned to retain only numeric information and converted to a float format for accurate analysis."
      ],
      "metadata": {
        "id": "3UbNNMtRorkw"
      }
    },
    {
      "cell_type": "code",
      "source": [
        "# Task 2: Price by Room Type\n",
        "\n",
        "# Objective: Compare the average price across different room types (shared rooms, private rooms, entire homes/apartments).\n",
        "\n",
        "# Calculating average price by room type\n",
        "avg_price_by_room_type = merged_data.groupby('room_type')['price'].mean().round(2)\n",
        "print(avg_price_by_room_type)\n"
      ],
      "metadata": {
        "colab": {
          "base_uri": "https://localhost:8080/"
        },
        "id": "1DKug0ompG4F",
        "outputId": "d5037f8a-85a4-454e-b390-c0b03adf81a5"
      },
      "execution_count": 20,
      "outputs": [
        {
          "output_type": "stream",
          "name": "stdout",
          "text": [
            "room_type\n",
            "ENTIRE HOME/APT    199.58\n",
            "Entire home/apt    196.96\n",
            "PRIVATE ROOM        82.19\n",
            "Private room        81.89\n",
            "SHARED ROOM         54.61\n",
            "Shared room         52.90\n",
            "entire home/apt    195.88\n",
            "private room        80.37\n",
            "shared room         54.41\n",
            "Name: price, dtype: float64\n"
          ]
        }
      ]
    },
    {
      "cell_type": "markdown",
      "source": [
        "#### Average Price by Room Type\n",
        "\n",
        "The table below shows the average prices for different types of Airbnb listings in New York City:\n",
        "\n",
        "| Room Type         | Average Price (USD) |\n",
        "|-------------------|----------------------|\n",
        "| ENTIRE HOME/APT   | 199.58               |\n",
        "| Entire home/apt   | 196.96               |\n",
        "| PRIVATE ROOM      | 82.19                |\n",
        "| Private room      | 81.89                |\n",
        "| SHARED ROOM       | 54.61                |\n",
        "| Shared room       | 52.90                |\n",
        "\n",
        "### Insight:\n",
        "\n",
        "The analysis of average prices across different room types reveals distinct pricing patterns:\n",
        "\n",
        "- **Entire Home/Apt**: Listings classified as \"Entire home/apt\" or \"ENTIRE HOME/APT\" have the highest average prices, ranging between $195.88 and $199.58. This reflects the premium cost associated with booking an entire property, which offers more space and privacy.\n",
        "\n",
        "- **Private Room**: The average prices for \"Private room\" and \"PRIVATE ROOM\" are significantly lower, around $80 to $82. This indicates a more budget-friendly option compared to renting an entire home, appealing to travelers looking for a private space without the cost of a full apartment.\n",
        "\n",
        "- **Shared Room**: Listings for \"Shared room\" and \"SHARED ROOM\" have the lowest average prices, ranging from $52.90 to\n",
        "$54.61. This is expected as shared rooms offer the least privacy and are typically the most economical choice for travelers.\n"
      ],
      "metadata": {
        "id": "kT2MwU9EqHQk"
      }
    },
    {
      "cell_type": "code",
      "source": [
        "# Task 3: Price by Neighborhood\n",
        "\n",
        "# Objective: Identify the most and least expensive neighborhoods for Airbnb listings.\n",
        "\n",
        "import matplotlib.pyplot as plt\n",
        "\n",
        "# Calculating average price by neighborhood\n",
        "avg_price_by_neighborhood = merged_data.groupby('nbhood_full')['price'].mean().round(2).sort_values(ascending=False)\n",
        "\n",
        "# Displaying the top 10 most expensive neighborhoods\n",
        "top_10_expensive_neighborhoods = avg_price_by_neighborhood.head(10)\n",
        "print(\"Top 10 Most Expensive Neighborhoods:\\n\", top_10_expensive_neighborhoods)\n",
        "\n",
        "# Plotting the top 10 most expensive neighborhoods\n",
        "plt.figure(figsize=(10, 6))\n",
        "top_10_expensive_neighborhoods.plot(kind='bar', color='skyblue')\n",
        "plt.title('Top 10 Most Expensive Neighborhoods in NYC')\n",
        "plt.xlabel('Neighborhood')\n",
        "plt.ylabel('Average Price (USD)')\n",
        "plt.xticks(rotation=45, ha='right')\n",
        "plt.show()\n",
        "\n"
      ],
      "metadata": {
        "colab": {
          "base_uri": "https://localhost:8080/",
          "height": 921
        },
        "id": "M-w-agPQqwAX",
        "outputId": "8e9c6d44-0443-4675-8529-8b86f169d93b"
      },
      "execution_count": 23,
      "outputs": [
        {
          "output_type": "stream",
          "name": "stdout",
          "text": [
            "Top 10 Most Expensive Neighborhoods:\n",
            " nbhood_full\n",
            "Brooklyn, Sea Gate              805.00\n",
            "Manhattan, Tribeca              396.70\n",
            "Manhattan, Flatiron District    342.06\n",
            "Manhattan, NoHo                 335.02\n",
            "Manhattan, SoHo                 299.16\n",
            "Queens, Neponsit                274.67\n",
            "Manhattan, Midtown              272.21\n",
            "Manhattan, West Village         258.76\n",
            "Staten Island, Willowbrook      249.00\n",
            "Manhattan, Murray Hill          240.37\n",
            "Name: price, dtype: float64\n"
          ]
        },
        {
          "output_type": "display_data",
          "data": {
            "text/plain": [
              "<Figure size 1000x600 with 1 Axes>"
            ],
            "image/png": "[encoded data removed]"
          },
          "metadata": {}
        }
      ]
    },
    {
      "cell_type": "markdown",
      "source": [
        "##  Combining Results into a Summary DataFrame\n",
        "\n"
      ],
      "metadata": {
        "id": "fYxWTzoBsRTt"
      }
    },
    {
      "cell_type": "code",
      "source": [
        "# Task 1: Aggregated Market Summary\n",
        "\n",
        "# Objective: Create a comprehensive summary DataFrame that includes key metrics like the total number of listings, number of private rooms, average price, and review date range for each neighborhood.\n",
        "\n",
        "# Importing CSV file\n",
        "price_data = pd.read_csv('/content/airbnb_price.csv')\n",
        "\n",
        "# Importing Excel file\n",
        "room_type_data = pd.read_excel('/content/airbnb_room_type.xlsx')\n",
        "\n",
        "# Importing TSV file\n",
        "review_data = pd.read_csv('/content/airbnb_last_review.tsv', sep='\\t')\n",
        "\n",
        "# Extracting the relevant columns to create 'last_review_data'\n",
        "last_review_data = review_data[['listing_id', 'last_review']]\n",
        "\n",
        "# Merging room type, price, and last review data\n",
        "merged_data = pd.merge(pd.merge(room_type_data, price_data, on='listing_id'), last_review_data, on='listing_id')\n",
        "\n",
        "# Now merged_data contains 'listing_id', 'room_type', 'price', 'nbhood_full', and 'last_review'\n",
        "\n",
        "# Clean the 'price' column: Remove non-numeric characters and convert to float\n",
        "merged_data['price'] = merged_data['price'].replace('[\\$, dollars]', '', regex=True).astype(float)\n",
        "\n",
        "# Grouping by neighborhood to aggregate key metrics\n",
        "market_summary = merged_data.groupby('nbhood_full').agg(\n",
        "    total_listings=('listing_id', 'count'),\n",
        "    nb_private_rooms=('room_type', lambda x: (x == 'Private room').sum()),\n",
        "    avg_price=('price', 'mean'),\n",
        "    first_reviewed=('last_review', 'min'),\n",
        "    last_reviewed=('last_review', 'max')\n",
        ").round(2).reset_index()\n",
        "\n",
        "# Display the first few rows of the summary\n",
        "market_summary.head()\n",
        "\n",
        "\n"
      ],
      "metadata": {
        "colab": {
          "base_uri": "https://localhost:8080/",
          "height": 206
        },
        "id": "IaKE3N1zsQjF",
        "outputId": "76f3c21b-7421-48ed-967a-ee9b3aa6ef60"
      },
      "execution_count": 36,
      "outputs": [
        {
          "output_type": "execute_result",
          "data": {
            "text/plain": [
              "          nbhood_full  total_listings  nb_private_rooms  avg_price  \\\n",
              "0     Bronx, Allerton              30                11      98.93   \n",
              "1   Bronx, Baychester               5                 0      78.60   \n",
              "2      Bronx, Belmont              16                 6      91.88   \n",
              "3    Bronx, Bronxdale              10                 3      53.60   \n",
              "4  Bronx, Castle Hill               2                 0      74.00   \n",
              "\n",
              "    first_reviewed last_reviewed  \n",
              "0  January 01 2019   May 12 2019  \n",
              "1     July 01 2019  June 30 2019  \n",
              "2     July 01 2019   May 19 2019  \n",
              "3     July 05 2019   May 23 2019  \n",
              "4     June 10 2019  June 23 2019  "
            ],
            "text/html": [
              "\n",
              "  <div id=\"df-cefaf0a2-1c0e-4076-932a-555d75f77ce9\" class=\"colab-df-container\">\n",
              "    <div>\n",
              "<style scoped>\n",
              "    .dataframe tbody tr th:only-of-type {\n",
              "        vertical-align: middle;\n",
              "    }\n",
              "\n",
              "    .dataframe tbody tr th {\n",
              "        vertical-align: top;\n",
              "    }\n",
              "\n",
              "    .dataframe thead th {\n",
              "        text-align: right;\n",
              "    }\n",
              "</style>\n",
              "<table border=\"1\" class=\"dataframe\">\n",
              "  <thead>\n",
              "    <tr style=\"text-align: right;\">\n",
              "      <th></th>\n",
              "      <th>nbhood_full</th>\n",
              "      <th>total_listings</th>\n",
              "      <th>nb_private_rooms</th>\n",
              "      <th>avg_price</th>\n",
              "      <th>first_reviewed</th>\n",
              "      <th>last_reviewed</th>\n",
              "    </tr>\n",
              "  </thead>\n",
              "  <tbody>\n",
              "    <tr>\n",
              "      <th>0</th>\n",
              "      <td>Bronx, Allerton</td>\n",
              "      <td>30</td>\n",
              "      <td>11</td>\n",
              "      <td>98.93</td>\n",
              "      <td>January 01 2019</td>\n",
              "      <td>May 12 2019</td>\n",
              "    </tr>\n",
              "    <tr>\n",
              "      <th>1</th>\n",
              "      <td>Bronx, Baychester</td>\n",
              "      <td>5</td>\n",
              "      <td>0</td>\n",
              "      <td>78.60</td>\n",
              "      <td>July 01 2019</td>\n",
              "      <td>June 30 2019</td>\n",
              "    </tr>\n",
              "    <tr>\n",
              "      <th>2</th>\n",
              "      <td>Bronx, Belmont</td>\n",
              "      <td>16</td>\n",
              "      <td>6</td>\n",
              "      <td>91.88</td>\n",
              "      <td>July 01 2019</td>\n",
              "      <td>May 19 2019</td>\n",
              "    </tr>\n",
              "    <tr>\n",
              "      <th>3</th>\n",
              "      <td>Bronx, Bronxdale</td>\n",
              "      <td>10</td>\n",
              "      <td>3</td>\n",
              "      <td>53.60</td>\n",
              "      <td>July 05 2019</td>\n",
              "      <td>May 23 2019</td>\n",
              "    </tr>\n",
              "    <tr>\n",
              "      <th>4</th>\n",
              "      <td>Bronx, Castle Hill</td>\n",
              "      <td>2</td>\n",
              "      <td>0</td>\n",
              "      <td>74.00</td>\n",
              "      <td>June 10 2019</td>\n",
              "      <td>June 23 2019</td>\n",
              "    </tr>\n",
              "  </tbody>\n",
              "</table>\n",
              "</div>\n",
              "    <div class=\"colab-df-buttons\">\n",
              "\n",
              "  <div class=\"colab-df-container\">\n",
              "    <button class=\"colab-df-convert\" onclick=\"convertToInteractive('df-cefaf0a2-1c0e-4076-932a-555d75f77ce9')\"\n",
              "            title=\"Convert this dataframe to an interactive table.\"\n",
              "            style=\"display:none;\">\n",
              "\n",
              "  <svg xmlns=\"http://www.w3.org/2000/svg\" height=\"24px\" viewBox=\"0 -960 960 960\">\n",
              "    <path d=\"M120-120v-720h720v720H120Zm60-500h600v-160H180v160Zm220 220h160v-160H400v160Zm0 220h160v-160H400v160ZM180-400h160v-160H180v160Zm440 0h160v-160H620v160ZM180-180h160v-160H180v160Zm440 0h160v-160H620v160Z\"/>\n",
              "  </svg>\n",
              "    </button>\n",
              "\n",
              "  <style>\n",
              "    .colab-df-container {\n",
              "      display:flex;\n",
              "      gap: 12px;\n",
              "    }\n",
              "\n",
              "    .colab-df-convert {\n",
              "      background-color: #E8F0FE;\n",
              "      border: none;\n",
              "      border-radius: 50%;\n",
              "      cursor: pointer;\n",
              "      display: none;\n",
              "      fill: #1967D2;\n",
              "      height: 32px;\n",
              "      padding: 0 0 0 0;\n",
              "      width: 32px;\n",
              "    }\n",
              "\n",
              "    .colab-df-convert:hover {\n",
              "      background-color: #E2EBFA;\n",
              "      box-shadow: 0px 1px 2px rgba(60, 64, 67, 0.3), 0px 1px 3px 1px rgba(60, 64, 67, 0.15);\n",
              "      fill: #174EA6;\n",
              "    }\n",
              "\n",
              "    .colab-df-buttons div {\n",
              "      margin-bottom: 4px;\n",
              "    }\n",
              "\n",
              "    [theme=dark] .colab-df-convert {\n",
              "      background-color: #3B4455;\n",
              "      fill: #D2E3FC;\n",
              "    }\n",
              "\n",
              "    [theme=dark] .colab-df-convert:hover {\n",
              "      background-color: #434B5C;\n",
              "      box-shadow: 0px 1px 3px 1px rgba(0, 0, 0, 0.15);\n",
              "      filter: drop-shadow(0px 1px 2px rgba(0, 0, 0, 0.3));\n",
              "      fill: #FFFFFF;\n",
              "    }\n",
              "  </style>\n",
              "\n",
              "    <script>\n",
              "      const buttonEl =\n",
              "        document.querySelector('#df-cefaf0a2-1c0e-4076-932a-555d75f77ce9 button.colab-df-convert');\n",
              "      buttonEl.style.display =\n",
              "        google.colab.kernel.accessAllowed ? 'block' : 'none';\n",
              "\n",
              "      async function convertToInteractive(key) {\n",
              "        const element = document.querySelector('#df-cefaf0a2-1c0e-4076-932a-555d75f77ce9');\n",
              "        const dataTable =\n",
              "          await google.colab.kernel.invokeFunction('convertToInteractive',\n",
              "                                                    [key], {});\n",
              "        if (!dataTable) return;\n",
              "\n",
              "        const docLinkHtml = 'Like what you see? Visit the ' +\n",
              "          '<a target=\"_blank\" href=https://colab.research.google.com/notebooks/data_table.ipynb>data table notebook</a>'\n",
              "          + ' to learn more about interactive tables.';\n",
              "        element.innerHTML = '';\n",
              "        dataTable['output_type'] = 'display_data';\n",
              "        await google.colab.output.renderOutput(dataTable, element);\n",
              "        const docLink = document.createElement('div');\n",
              "        docLink.innerHTML = docLinkHtml;\n",
              "        element.appendChild(docLink);\n",
              "      }\n",
              "    </script>\n",
              "  </div>\n",
              "\n",
              "\n",
              "<div id=\"df-ceaf2537-5e18-4fc0-bc1d-5c1fb7240f8e\">\n",
              "  <button class=\"colab-df-quickchart\" onclick=\"quickchart('df-ceaf2537-5e18-4fc0-bc1d-5c1fb7240f8e')\"\n",
              "            title=\"Suggest charts\"\n",
              "            style=\"display:none;\">\n",
              "\n",
              "<svg xmlns=\"http://www.w3.org/2000/svg\" height=\"24px\"viewBox=\"0 0 24 24\"\n",
              "     width=\"24px\">\n",
              "    <g>\n",
              "        <path d=\"M19 3H5c-1.1 0-2 .9-2 2v14c0 1.1.9 2 2 2h14c1.1 0 2-.9 2-2V5c0-1.1-.9-2-2-2zM9 17H7v-7h2v7zm4 0h-2V7h2v10zm4 0h-2v-4h2v4z\"/>\n",
              "    </g>\n",
              "</svg>\n",
              "  </button>\n",
              "\n",
              "<style>\n",
              "  .colab-df-quickchart {\n",
              "      --bg-color: #E8F0FE;\n",
              "      --fill-color: #1967D2;\n",
              "      --hover-bg-color: #E2EBFA;\n",
              "      --hover-fill-color: #174EA6;\n",
              "      --disabled-fill-color: #AAA;\n",
              "      --disabled-bg-color: #DDD;\n",
              "  }\n",
              "\n",
              "  [theme=dark] .colab-df-quickchart {\n",
              "      --bg-color: #3B4455;\n",
              "      --fill-color: #D2E3FC;\n",
              "      --hover-bg-color: #434B5C;\n",
              "      --hover-fill-color: #FFFFFF;\n",
              "      --disabled-bg-color: #3B4455;\n",
              "      --disabled-fill-color: #666;\n",
              "  }\n",
              "\n",
              "  .colab-df-quickchart {\n",
              "    background-color: var(--bg-color);\n",
              "    border: none;\n",
              "    border-radius: 50%;\n",
              "    cursor: pointer;\n",
              "    display: none;\n",
              "    fill: var(--fill-color);\n",
              "    height: 32px;\n",
              "    padding: 0;\n",
              "    width: 32px;\n",
              "  }\n",
              "\n",
              "  .colab-df-quickchart:hover {\n",
              "    background-color: var(--hover-bg-color);\n",
              "    box-shadow: 0 1px 2px rgba(60, 64, 67, 0.3), 0 1px 3px 1px rgba(60, 64, 67, 0.15);\n",
              "    fill: var(--button-hover-fill-color);\n",
              "  }\n",
              "\n",
              "  .colab-df-quickchart-complete:disabled,\n",
              "  .colab-df-quickchart-complete:disabled:hover {\n",
              "    background-color: var(--disabled-bg-color);\n",
              "    fill: var(--disabled-fill-color);\n",
              "    box-shadow: none;\n",
              "  }\n",
              "\n",
              "  .colab-df-spinner {\n",
              "    border: 2px solid var(--fill-color);\n",
              "    border-color: transparent;\n",
              "    border-bottom-color: var(--fill-color);\n",
              "    animation:\n",
              "      spin 1s steps(1) infinite;\n",
              "  }\n",
              "\n",
              "  @keyframes spin {\n",
              "    0% {\n",
              "      border-color: transparent;\n",
              "      border-bottom-color: var(--fill-color);\n",
              "      border-left-color: var(--fill-color);\n",
              "    }\n",
              "    20% {\n",
              "      border-color: transparent;\n",
              "      border-left-color: var(--fill-color);\n",
              "      border-top-color: var(--fill-color);\n",
              "    }\n",
              "    30% {\n",
              "      border-color: transparent;\n",
              "      border-left-color: var(--fill-color);\n",
              "      border-top-color: var(--fill-color);\n",
              "      border-right-color: var(--fill-color);\n",
              "    }\n",
              "    40% {\n",
              "      border-color: transparent;\n",
              "      border-right-color: var(--fill-color);\n",
              "      border-top-color: var(--fill-color);\n",
              "    }\n",
              "    60% {\n",
              "      border-color: transparent;\n",
              "      border-right-color: var(--fill-color);\n",
              "    }\n",
              "    80% {\n",
              "      border-color: transparent;\n",
              "      border-right-color: var(--fill-color);\n",
              "      border-bottom-color: var(--fill-color);\n",
              "    }\n",
              "    90% {\n",
              "      border-color: transparent;\n",
              "      border-bottom-color: var(--fill-color);\n",
              "    }\n",
              "  }\n",
              "</style>\n",
              "\n",
              "  <script>\n",
              "    async function quickchart(key) {\n",
              "      const quickchartButtonEl =\n",
              "        document.querySelector('#' + key + ' button');\n",
              "      quickchartButtonEl.disabled = true;  // To prevent multiple clicks.\n",
              "      quickchartButtonEl.classList.add('colab-df-spinner');\n",
              "      try {\n",
              "        const charts = await google.colab.kernel.invokeFunction(\n",
              "            'suggestCharts', [key], {});\n",
              "      } catch (error) {\n",
              "        console.error('Error during call to suggestCharts:', error);\n",
              "      }\n",
              "      quickchartButtonEl.classList.remove('colab-df-spinner');\n",
              "      quickchartButtonEl.classList.add('colab-df-quickchart-complete');\n",
              "    }\n",
              "    (() => {\n",
              "      let quickchartButtonEl =\n",
              "        document.querySelector('#df-ceaf2537-5e18-4fc0-bc1d-5c1fb7240f8e button');\n",
              "      quickchartButtonEl.style.display =\n",
              "        google.colab.kernel.accessAllowed ? 'block' : 'none';\n",
              "    })();\n",
              "  </script>\n",
              "</div>\n",
              "\n",
              "    </div>\n",
              "  </div>\n"
            ],
            "application/vnd.google.colaboratory.intrinsic+json": {
              "type": "dataframe",
              "variable_name": "market_summary",
              "summary": "{\n  \"name\": \"market_summary\",\n  \"rows\": 217,\n  \"fields\": [\n    {\n      \"column\": \"nbhood_full\",\n      \"properties\": {\n        \"dtype\": \"string\",\n        \"num_unique_values\": 217,\n        \"samples\": [\n          \"Staten Island, Rosebank\",\n          \"Staten Island, Tottenville\",\n          \"Queens, Corona\"\n        ],\n        \"semantic_type\": \"\",\n        \"description\": \"\"\n      }\n    },\n    {\n      \"column\": \"total_listings\",\n      \"properties\": {\n        \"dtype\": \"number\",\n        \"std\": 275,\n        \"min\": 1,\n        \"max\": 2209,\n        \"num_unique_values\": 105,\n        \"samples\": [\n          42,\n          165,\n          156\n        ],\n        \"semantic_type\": \"\",\n        \"description\": \"\"\n      }\n    },\n    {\n      \"column\": \"nb_private_rooms\",\n      \"properties\": {\n        \"dtype\": \"number\",\n        \"std\": 85,\n        \"min\": 0,\n        \"max\": 717,\n        \"num_unique_values\": 67,\n        \"samples\": [\n          85,\n          29,\n          5\n        ],\n        \"semantic_type\": \"\",\n        \"description\": \"\"\n      }\n    },\n    {\n      \"column\": \"avg_price\",\n      \"properties\": {\n        \"dtype\": \"number\",\n        \"std\": 75.04058293761676,\n        \"min\": 38.0,\n        \"max\": 805.0,\n        \"num_unique_values\": 211,\n        \"samples\": [\n          55.83,\n          62.17,\n          82.75\n        ],\n        \"semantic_type\": \"\",\n        \"description\": \"\"\n      }\n    },\n    {\n      \"column\": \"first_reviewed\",\n      \"properties\": {\n        \"dtype\": \"object\",\n        \"num_unique_values\": 72,\n        \"samples\": [\n          \"January 20 2019\",\n          \"June 01 2019\",\n          \"June 20 2019\"\n        ],\n        \"semantic_type\": \"\",\n        \"description\": \"\"\n      }\n    },\n    {\n      \"column\": \"last_reviewed\",\n      \"properties\": {\n        \"dtype\": \"object\",\n        \"num_unique_values\": 47,\n        \"samples\": [\n          \"June 15 2019\",\n          \"July 07 2019\",\n          \"March 02 2019\"\n        ],\n        \"semantic_type\": \"\",\n        \"description\": \"\"\n      }\n    }\n  ]\n}"
            }
          },
          "metadata": {},
          "execution_count": 36
        }
      ]
    },
    {
      "cell_type": "code",
      "source": [
        "# Task 2: Correlation Analysis\n",
        "\n",
        "# Objective: Explore correlations between variables such as price, room type, and neighborhood to identify any significant relationships.\n",
        "\n",
        "# Calculate the correlation matrix for numeric columns\n",
        "correlation_matrix = merged_data[['price']].corr()\n",
        "\n",
        "print(correlation_matrix)\n",
        "\n",
        "\n"
      ],
      "metadata": {
        "colab": {
          "base_uri": "https://localhost:8080/"
        },
        "id": "Jfb9X5mm1x74",
        "outputId": "511abb17-99a4-44f9-9373-3a75a73268a8"
      },
      "execution_count": 39,
      "outputs": [
        {
          "output_type": "stream",
          "name": "stdout",
          "text": [
            "       price\n",
            "price    1.0\n"
          ]
        }
      ]
    },
    {
      "cell_type": "markdown",
      "source": [
        "## Results Interpretation\n",
        "\n",
        "- **Review Activity**: The peak in reviews occurred in June 2019 with 12,000 reviews, indicating a high level of activity on Airbnb during that period.\n",
        "\n",
        "- **Average Time Between Reviews**: The average time between reviews is 0.01 days, suggesting frequent reviews, likely with multiple submissions on the same day.\n",
        "\n",
        "- **Private Room Listings**: 28.72% of the listings are private rooms. The top neighborhoods with the most private room listings are:\n",
        "  - Brooklyn, Bedford-Stuyvesant: 717 private rooms\n",
        "  - Brooklyn, Williamsburg: 549 private rooms\n",
        "  - Manhattan, Harlem: 512 private rooms\n",
        "\n",
        "- **Average Price of Private Rooms by Neighborhood**: The neighborhoods with the highest average prices for private rooms are:\n",
        "  - Queens, Holliswood: $239.00\n",
        "\n",
        "  - Manhattan, West Village: $224.03\n",
        "\n",
        "  - Queens, Belle Harbor: $212.50\n",
        "\n",
        "- **Average Price by Room Type**:\n",
        "  - **Entire Home/Apt**: $195.88 - $199.58\n",
        "  - **Private Room**: $80.00 - $82.00\n",
        "  - **Shared Room**: $52.90 - $54.61\n",
        "\n",
        "- **Top 10 Most Expensive Neighborhoods**:\n",
        "  - Brooklyn, Sea Gate: $805.00\n",
        "\n",
        "  - Manhattan, Tribeca: $396.70\n",
        "\n",
        "  - Manhattan, Flatiron District: $342.06\n",
        "\n",
        "- **Neighborhood Summary**:\n",
        "  - **Bronx, Allerton**: 30 listings, 11 private rooms, average price $98.93\n",
        "  \n",
        "  - **Bronx, Baychester**: 5 listings, 0 private rooms, average price $78.60\n",
        "\n",
        "- **Price Correlation**: The correlation analysis shows a perfect positive correlation for price (`corr = 1.0`), confirming price consistency across the dataset.\n"
      ],
      "metadata": {
        "id": "3eLaZX0X6wAY"
      }
    },
    {
      "cell_type": "markdown",
      "source": [
        "## Conclusion\n",
        "This analysis provided insights into the NYC Airbnb market, particularly focusing on private rooms and pricing trends. The findings can help the real estate start-up make informed decisions about investment opportunities in the short-term rental market.\n"
      ],
      "metadata": {
        "id": "_eC3HmfU7MzR"
      }
    },
    {
      "cell_type": "markdown",
      "source": [
        "## Future Recommendations\n",
        "- Explore the impact of location on pricing by analyzing neighborhood data.\n",
        "- Investigate trends over time by comparing data from multiple years.\n",
        "- Consider sentiment analysis on reviews to understand guest satisfaction.\n"
      ],
      "metadata": {
        "id": "5qVHyXKq7dpu"
      }
    }
  ]
}